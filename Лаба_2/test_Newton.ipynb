{
 "cells": [
  {
   "cell_type": "code",
   "execution_count": 1,
   "metadata": {},
   "outputs": [],
   "source": [
    "from sympy import *\n",
    "init_printing()"
   ]
  },
  {
   "cell_type": "code",
   "execution_count": 2,
   "metadata": {},
   "outputs": [
    {
     "name": "stdout",
     "output_type": "stream",
     "text": [
      "Матрица системы нелинейных уравнений F:\n"
     ]
    },
    {
     "data": {
      "text/latex": [
       "$$\\left[\\begin{matrix}x_{1}^{2} + x_{2}^{2} + x_{3}^{2} - 1\\\\2 x_{1}^{2} + x_{2}^{2} - 4 x_{3}\\\\3 x_{1}^{2} - 4 x_{2} + x_{3}^{2}\\end{matrix}\\right]$$"
      ],
      "text/plain": [
       "⎡  2     2     2    ⎤\n",
       "⎢x₁  + x₂  + x₃  - 1⎥\n",
       "⎢                   ⎥\n",
       "⎢    2     2        ⎥\n",
       "⎢2⋅x₁  + x₂  - 4⋅x₃ ⎥\n",
       "⎢                   ⎥\n",
       "⎢    2            2 ⎥\n",
       "⎣3⋅x₁  - 4⋅x₂ + x₃  ⎦"
      ]
     },
     "metadata": {},
     "output_type": "display_data"
    },
    {
     "name": "stdout",
     "output_type": "stream",
     "text": [
      "Матрица Якоби W:\n"
     ]
    },
    {
     "data": {
      "text/latex": [
       "$$\\left[\\begin{matrix}2 x_{1} & 2 x_{2} & 2 x_{3}\\\\4 x_{1} & 2 x_{2} & -4\\\\6 x_{1} & -4 & 2 x_{3}\\end{matrix}\\right]$$"
      ],
      "text/plain": [
       "⎡2⋅x₁  2⋅x₂  2⋅x₃⎤\n",
       "⎢                ⎥\n",
       "⎢4⋅x₁  2⋅x₂   -4 ⎥\n",
       "⎢                ⎥\n",
       "⎣6⋅x₁   -4   2⋅x₃⎦"
      ]
     },
     "metadata": {},
     "output_type": "display_data"
    },
    {
     "name": "stdout",
     "output_type": "stream",
     "text": [
      "x0 = [0.5, 0.5, 0.5]\n",
      "x1 = [0.875000000000000, 0.500000000000000, 0.375000000000000]\n",
      "x2 = [0.789816602316932, 0.496621621621614, 0.369932432432449]\n",
      "x3 = [0.785210443444385, 0.496611393007268, 0.369922830787265]\n",
      "\n",
      "Невязка решения:\n"
     ]
    },
    {
     "data": {
      "text/latex": [
       "$$\\left[\\begin{matrix}2.12168964097703 \\cdot 10^{-5}\\\\4.2433503811834 \\cdot 10^{-5}\\\\6.36501909725418 \\cdot 10^{-5}\\end{matrix}\\right]$$"
      ],
      "text/plain": [
       "⎡2.12168964097703e-5⎤\n",
       "⎢                   ⎥\n",
       "⎢4.2433503811834e-5 ⎥\n",
       "⎢                   ⎥\n",
       "⎣6.36501909725418e-5⎦"
      ]
     },
     "metadata": {},
     "output_type": "display_data"
    }
   ],
   "source": [
    "# задание с сайта http://mathhelpplanet.com\n",
    "from newtonsmethod import NewtonsMethod\n",
    "var('x1 x2 x3')\n",
    "var_s = [x1, x2, x3]\n",
    "x_0 = [0.5, 0.5, 0.5]\n",
    "F = Matrix([x1 ** 2 + x2 ** 2 + x3 ** 2 - 1,\n",
    "            2 * x1 ** 2 + x2 ** 2 -4 * x3,\n",
    "            3 * x1 ** 2 -4 * x2 + x3 ** 2])\n",
    "solution = NewtonsMethod.solve(x_0, F, *var_s, E=5e-3)\n",
    "print('\\nНевязка решения:')\n",
    "display(NewtonsMethod.residual(F, *var_s, solution=solution))"
   ]
  },
  {
   "cell_type": "code",
   "execution_count": 5,
   "metadata": {},
   "outputs": [
    {
     "name": "stdout",
     "output_type": "stream",
     "text": [
      "Матрица системы нелинейных уравнений F:\n"
     ]
    },
    {
     "data": {
      "text/latex": [
       "$$\\left[\\begin{matrix}2 x^{3} y^{2} + 9 x z^{2} + y z + 175\\\\- 0.8 x^{2} y + 0.5 y^{3} z^{2} - 1.3\\\\- 6.3 y^{3} + 0.7 z^{3} - 12.6\\end{matrix}\\right]$$"
      ],
      "text/plain": [
       "⎡   3  2        2            ⎤\n",
       "⎢2⋅x ⋅y  + 9⋅x⋅z  + y⋅z + 175⎥\n",
       "⎢                            ⎥\n",
       "⎢       2          3  2      ⎥\n",
       "⎢- 0.8⋅x ⋅y + 0.5⋅y ⋅z  - 1.3⎥\n",
       "⎢                            ⎥\n",
       "⎢         3        3         ⎥\n",
       "⎣  - 6.3⋅y  + 0.7⋅z  - 12.6  ⎦"
      ]
     },
     "metadata": {},
     "output_type": "display_data"
    },
    {
     "name": "stdout",
     "output_type": "stream",
     "text": [
      "Матрица Якоби W:\n"
     ]
    },
    {
     "data": {
      "text/latex": [
       "$$\\left[\\begin{matrix}6 x^{2} y^{2} + 9 z^{2} & 4 x^{3} y + z & 18 x z + y\\\\- 1.6 x y & - 0.8 x^{2} + 1.5 y^{2} z^{2} & 1.0 y^{3} z\\\\0 & - 18.9 y^{2} & 2.1 z^{2}\\end{matrix}\\right]$$"
      ],
      "text/plain": [
       "⎡   2  2      2          3                       ⎤\n",
       "⎢6⋅x ⋅y  + 9⋅z        4⋅x ⋅y + z       18⋅x⋅z + y⎥\n",
       "⎢                                                ⎥\n",
       "⎢                       2        2  2        3   ⎥\n",
       "⎢   -1.6⋅x⋅y     - 0.8⋅x  + 1.5⋅y ⋅z    1.0⋅y ⋅z ⎥\n",
       "⎢                                                ⎥\n",
       "⎢                             2               2  ⎥\n",
       "⎣      0               -18.9⋅y           2.1⋅z   ⎦"
      ]
     },
     "metadata": {},
     "output_type": "display_data"
    },
    {
     "name": "stdout",
     "output_type": "stream",
     "text": [
      "x0 = [0.5, 0.5, 0.5]\n",
      "x1 = [-6.12586982944049, -5.74505482765380, -30.3721601155121]\n",
      "x2 = [-4.24889265025558, -5.05862808888196, -20.6372304558754]\n",
      "x3 = [-2.89035047938523, -4.40828050046548, -14.3042190858396]\n",
      "x4 = [-1.91539470727002, -3.77783904989337, -10.2239671821008]\n",
      "x5 = [-1.27519044428482, -3.17406293382373, -7.56407812196994]\n",
      "x6 = [-0.983248347434710, -2.62524083315657, -5.74480606865836]\n",
      "x7 = [-1.03893714735477, -2.15747196130178, -4.41358810763631]\n",
      "x8 = [-1.41270433400950, -1.78605785673426, -3.38221869227709]\n",
      "x9 = [-2.03719692944014, -1.53507348533094, -2.59458723453281]\n",
      "x10 = [-2.54168533318898, -1.44510663301571, -2.16703969836817]\n",
      "x11 = [-2.61670099623916, -1.44496232525595, -2.09436103372173]\n",
      "x12 = [-2.61644177861225, -1.44533274803424, -2.09336754937583]\n",
      "\n",
      "Невязка решения:\n"
     ]
    },
    {
     "data": {
      "text/latex": [
       "$$\\left[\\begin{matrix}-2.9037593975545 \\cdot 10^{-5}\\\\1.71001984661245 \\cdot 10^{-6}\\\\-5.92765680984542 \\cdot 10^{-7}\\end{matrix}\\right]$$"
      ],
      "text/plain": [
       "⎡-2.9037593975545e-5 ⎤\n",
       "⎢                    ⎥\n",
       "⎢1.71001984661245e-6 ⎥\n",
       "⎢                    ⎥\n",
       "⎣-5.92765680984542e-7⎦"
      ]
     },
     "metadata": {},
     "output_type": "display_data"
    }
   ],
   "source": [
    "# Вариант 16\n",
    "from newtonsmethod import NewtonsMethod\n",
    "var('x y z')\n",
    "var_s = [x, y, z]\n",
    "x_0 = [0.5, 0.5, 0.5]\n",
    "F = Matrix([9 * x * z ** 2 + y * z + 2 * y ** 2 * x ** 3 + 175,\n",
    "            0.5 * y ** 3 * z ** 2 -0.8 * x ** 2 * y - 5.5 + 4.2,\n",
    "           0.7 * z ** 3 - 6.3 * y ** 3 - 12.6])\n",
    "solution = NewtonsMethod.solve(x_0, F, *var_s, E=5e-3)\n",
    "print('\\nНевязка решения:')\n",
    "display(NewtonsMethod.residual(F, *var_s, solution=solution))"
   ]
  },
  {
   "cell_type": "code",
   "execution_count": 4,
   "metadata": {},
   "outputs": [
    {
     "name": "stdout",
     "output_type": "stream",
     "text": [
      "Матрица системы нелинейных уравнений F:\n"
     ]
    },
    {
     "data": {
      "text/latex": [
       "$$\\left[\\begin{matrix}10.2 x^{2} - 1.7 y^{2} - 12.24\\\\- 7.3 x^{2} y + 2 y^{2} z + 8.6 z^{3} - 30.9312\\\\- 1.3 x^{2} z + 3.5 y^{3} - 0.6 z^{2} + 9.1584\\end{matrix}\\right]$$"
      ],
      "text/plain": [
       "⎡             2        2               ⎤\n",
       "⎢       10.2⋅x  - 1.7⋅y  - 12.24       ⎥\n",
       "⎢                                      ⎥\n",
       "⎢       2        2          3          ⎥\n",
       "⎢- 7.3⋅x ⋅y + 2⋅y ⋅z + 8.6⋅z  - 30.9312⎥\n",
       "⎢                                      ⎥\n",
       "⎢       2          3        2          ⎥\n",
       "⎣- 1.3⋅x ⋅z + 3.5⋅y  - 0.6⋅z  + 9.1584 ⎦"
      ]
     },
     "metadata": {},
     "output_type": "display_data"
    },
    {
     "name": "stdout",
     "output_type": "stream",
     "text": [
      "Матрица Якоби W:\n"
     ]
    },
    {
     "data": {
      "text/latex": [
       "$$\\left[\\begin{matrix}20.4 x & - 3.4 y & 0\\\\- 14.6 x y & - 7.3 x^{2} + 4 y z & 2 y^{2} + 25.8 z^{2}\\\\- 2.6 x z & 10.5 y^{2} & - 1.3 x^{2} - 1.2 z\\end{matrix}\\right]$$"
      ],
      "text/plain": [
       "⎡ 20.4⋅x         -3.4⋅y              0        ⎤\n",
       "⎢                                             ⎥\n",
       "⎢                  2              2         2 ⎥\n",
       "⎢-14.6⋅x⋅y  - 7.3⋅x  + 4⋅y⋅z   2⋅y  + 25.8⋅z  ⎥\n",
       "⎢                                             ⎥\n",
       "⎢                     2              2        ⎥\n",
       "⎣-2.6⋅x⋅z       10.5⋅y        - 1.3⋅x  - 1.2⋅z⎦"
      ]
     },
     "metadata": {},
     "output_type": "display_data"
    },
    {
     "name": "stdout",
     "output_type": "stream",
     "text": [
      "x0 = [-1.2, -1.2, 1.2]\n",
      "x1 = [-1.20000000000000, -1.20000000000000, 1.20000000000000]\n",
      "\n",
      "Невязка решения:\n"
     ]
    },
    {
     "data": {
      "text/latex": [
       "$$\\left[\\begin{matrix}4.44089209850063 \\cdot 10^{-16}\\\\-3.5527136788005 \\cdot 10^{-15}\\\\1.22124532708767 \\cdot 10^{-15}\\end{matrix}\\right]$$"
      ],
      "text/plain": [
       "⎡4.44089209850063e-16⎤\n",
       "⎢                    ⎥\n",
       "⎢-3.5527136788005e-15⎥\n",
       "⎢                    ⎥\n",
       "⎣1.22124532708767e-15⎦"
      ]
     },
     "metadata": {},
     "output_type": "display_data"
    }
   ],
   "source": [
    "# Вариант 15\n",
    "from newtonsmethod import NewtonsMethod\n",
    "var('x y z')\n",
    "var_s = [x, y, z]\n",
    "x_0 = [-1.2, -1.2, 1.2]\n",
    "F = Matrix([10.2 * x ** 2 -1.7 * y ** 2 -0.7 -11.54,\n",
    "            2 * y ** 2 * z - 7.3 * x ** 2 * y + 8.6 * z ** 3 - 30.9312,\n",
    "           3.5 * y ** 3 -1.3 * z * x ** 2 - 0.6 * z ** 2 + 9.1584])\n",
    "solution = NewtonsMethod.solve(x_0, F, *var_s, E=5e-3)\n",
    "print('\\nНевязка решения:')\n",
    "display(NewtonsMethod.residual(F, *var_s, solution=solution))"
   ]
  },
  {
   "cell_type": "code",
   "execution_count": 5,
   "metadata": {},
   "outputs": [
    {
     "name": "stdout",
     "output_type": "stream",
     "text": [
      "Матрица системы нелинейных уравнений F:\n"
     ]
    },
    {
     "data": {
      "text/latex": [
       "$$\\left[\\begin{matrix}10.2 x^{2} - 1.7 y^{2} - 12.24\\\\- 7.3 x^{2} y + 2 y^{2} z + 8.6 z^{3} - 30.9312\\\\- 1.3 x^{2} z + 3.5 y^{3} - 0.6 z^{2} + 9.1584\\end{matrix}\\right]$$"
      ],
      "text/plain": [
       "⎡             2        2               ⎤\n",
       "⎢       10.2⋅x  - 1.7⋅y  - 12.24       ⎥\n",
       "⎢                                      ⎥\n",
       "⎢       2        2          3          ⎥\n",
       "⎢- 7.3⋅x ⋅y + 2⋅y ⋅z + 8.6⋅z  - 30.9312⎥\n",
       "⎢                                      ⎥\n",
       "⎢       2          3        2          ⎥\n",
       "⎣- 1.3⋅x ⋅z + 3.5⋅y  - 0.6⋅z  + 9.1584 ⎦"
      ]
     },
     "metadata": {},
     "output_type": "display_data"
    },
    {
     "name": "stdout",
     "output_type": "stream",
     "text": [
      "Матрица Якоби W:\n"
     ]
    },
    {
     "data": {
      "text/latex": [
       "$$\\left[\\begin{matrix}20.4 x & - 3.4 y & 0\\\\- 14.6 x y & - 7.3 x^{2} + 4 y z & 2 y^{2} + 25.8 z^{2}\\\\- 2.6 x z & 10.5 y^{2} & - 1.3 x^{2} - 1.2 z\\end{matrix}\\right]$$"
      ],
      "text/plain": [
       "⎡ 20.4⋅x         -3.4⋅y              0        ⎤\n",
       "⎢                                             ⎥\n",
       "⎢                  2              2         2 ⎥\n",
       "⎢-14.6⋅x⋅y  - 7.3⋅x  + 4⋅y⋅z   2⋅y  + 25.8⋅z  ⎥\n",
       "⎢                                             ⎥\n",
       "⎢                     2              2        ⎥\n",
       "⎣-2.6⋅x⋅z       10.5⋅y        - 1.3⋅x  - 1.2⋅z⎦"
      ]
     },
     "metadata": {},
     "output_type": "display_data"
    },
    {
     "name": "stdout",
     "output_type": "stream",
     "text": [
      "x0 = [-1.2, -1.2, 1.2]\n",
      "x1 = [-1.20000000000000, -1.20000000000000, 1.20000000000000]\n",
      "\n",
      "Невязка решения:\n"
     ]
    },
    {
     "data": {
      "text/latex": [
       "$$\\left[\\begin{matrix}4.44089209850063 \\cdot 10^{-16}\\\\-3.5527136788005 \\cdot 10^{-15}\\\\1.22124532708767 \\cdot 10^{-15}\\end{matrix}\\right]$$"
      ],
      "text/plain": [
       "⎡4.44089209850063e-16⎤\n",
       "⎢                    ⎥\n",
       "⎢-3.5527136788005e-15⎥\n",
       "⎢                    ⎥\n",
       "⎣1.22124532708767e-15⎦"
      ]
     },
     "metadata": {},
     "output_type": "display_data"
    }
   ],
   "source": [
    "from newtonsmethod import NewtonsMethod\n",
    "var('x y z')\n",
    "var_s = [x, y, z]\n",
    "x_0 = [-1.2, -1.2, 1.2]\n",
    "F = Matrix([10.2 * x ** 2 -1.7 * y ** 2 -0.7 -11.54,\n",
    "            2 * y ** 2 * z - 7.3 * x ** 2 * y + 8.6 * z ** 3 - 30.9312,\n",
    "           3.5 * y ** 3 -1.3 * z * x ** 2 - 0.6 * z ** 2 + 9.1584])\n",
    "solution = NewtonsMethod.solve(x_0, F, *var_s, E=5e-3)\n",
    "print('\\nНевязка решения:')\n",
    "display(NewtonsMethod.residual(F, *var_s, solution=solution))"
   ]
  },
  {
   "cell_type": "code",
   "execution_count": null,
   "metadata": {},
   "outputs": [],
   "source": []
  }
 ],
 "metadata": {
  "kernelspec": {
   "display_name": "Python 3",
   "language": "python",
   "name": "python3"
  },
  "language_info": {
   "codemirror_mode": {
    "name": "ipython",
    "version": 3
   },
   "file_extension": ".py",
   "mimetype": "text/x-python",
   "name": "python",
   "nbconvert_exporter": "python",
   "pygments_lexer": "ipython3",
   "version": "3.7.3"
  }
 },
 "nbformat": 4,
 "nbformat_minor": 2
}
